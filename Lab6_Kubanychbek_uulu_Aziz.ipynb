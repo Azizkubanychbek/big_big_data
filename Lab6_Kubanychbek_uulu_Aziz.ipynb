{
 "cells": [
  {
   "cell_type": "markdown",
   "id": "a3bba3ce-de01-4cc2-8337-4e883329481b",
   "metadata": {},
   "source": [
    "<h1>Задание</h1>"
   ]
  },
  {
   "cell_type": "markdown",
   "id": "de3771ae-7ece-4d0c-9313-865838374229",
   "metadata": {},
   "source": [
    "<h5>2.\tИспользуя один из подходящих игрушечных датасетов (breast_canser, digits, diabetes …) применить алгоритмы улучшения качества и оценки моделей (перекрестная проверка, решетчатый поиск, метрики модели)</h5>"
   ]
  },
  {
   "cell_type": "code",
   "id": "8bcf98be-7607-4ff1-87ac-9c368f9b2f09",
   "metadata": {
    "ExecuteTime": {
     "end_time": "2024-12-07T08:47:43.586713Z",
     "start_time": "2024-12-07T08:47:02.854332Z"
    }
   },
   "source": [
    "import numpy as np\n",
    "from sklearn.datasets import load_diabetes\n",
    "from sklearn.model_selection import train_test_split, GridSearchCV, cross_val_score\n",
    "from sklearn.ensemble import RandomForestRegressor\n",
    "from sklearn.metrics import mean_squared_error\n",
    "\n",
    "def load_and_split_data(test_size=0.2, random_state=42):\n",
    "    \"\"\"Загружает и разделяет данные на обучающую и тестовую выборки.\"\"\"\n",
    "    data = load_diabetes()\n",
    "    X, y = data.data, data.target\n",
    "    return train_test_split(X, y, test_size=test_size, random_state=random_state)\n",
    "\n",
    "def perform_cross_validation(model, X_train, y_train, cv=5):\n",
    "    \"\"\"Выполняет перекрёстную проверку и возвращает средний MSE.\"\"\"\n",
    "    cv_scores = cross_val_score(model, X_train, y_train, cv=cv, scoring='neg_mean_squared_error')\n",
    "    mean_mse = -np.mean(cv_scores)\n",
    "    print(\"Средний MSE на перекрёстной проверке:\", mean_mse)\n",
    "    return mean_mse\n",
    "\n",
    "def perform_grid_search(model, param_grid, X_train, y_train, cv=5):\n",
    "    \"\"\"Выполняет поиск гиперпараметров с использованием решетчатого поиска.\"\"\"\n",
    "    grid_search = GridSearchCV(model, param_grid, cv=cv, scoring='neg_mean_squared_error')\n",
    "    grid_search.fit(X_train, y_train)\n",
    "    print(\"Лучшие параметры:\", grid_search.best_params_)\n",
    "    return grid_search.best_estimator_\n",
    "\n",
    "def evaluate_model(model, X_test, y_test):\n",
    "    \"\"\"Оценивает модель на тестовых данных и возвращает MSE.\"\"\"\n",
    "    y_pred = model.predict(X_test)\n",
    "    mse = mean_squared_error(y_test, y_pred)\n",
    "    print(\"MSE на тестовых данных:\", mse)\n",
    "    return mse\n",
    "\n",
    "if __name__ == \"__main__\":\n",
    "    # Шаг 1: Загрузка и разделение данных\n",
    "    X_train, X_test, y_train, y_test = load_and_split_data()\n",
    "\n",
    "    # Шаг 2: Инициализация модели\n",
    "    model = RandomForestRegressor(random_state=42)\n",
    "\n",
    "    # Шаг 3: Перекрёстная проверка\n",
    "    perform_cross_validation(model, X_train, y_train)\n",
    "\n",
    "    # Шаг 4: Решетчатый поиск гиперпараметров\n",
    "    param_grid = {\n",
    "        'n_estimators': [50, 100, 150],\n",
    "        'max_depth': [None, 10, 20],\n",
    "        'min_samples_split': [2, 5, 10]\n",
    "    }\n",
    "    best_model = perform_grid_search(model, param_grid, X_train, y_train)\n",
    "\n",
    "    # Шаг 5: Оценка на тестовых данных\n",
    "    evaluate_model(best_model, X_test, y_test)\n"
   ],
   "outputs": [
    {
     "name": "stdout",
     "output_type": "stream",
     "text": [
      "Средний MSE на перекрёстной проверке: 3511.9697030744474\n",
      "Лучшие параметры: {'max_depth': 10, 'min_samples_split': 10, 'n_estimators': 150}\n",
      "MSE на тестовых данных: 2957.7682934471345\n"
     ]
    }
   ],
   "execution_count": 1
  },
  {
   "cell_type": "markdown",
   "id": "f28bd3d3-eade-4524-81ca-3af0ee6d7976",
   "metadata": {},
   "source": [
    "<h5>3. Создать модель классификатор, которая по определенному обучаемому набору (salary, city, age, vacation_prefer, transport_prefer) будет определять предпочтения человека (target), в каком городе провести отпуск.</h5>\n",
    "<ol>\n",
    "    <li><strong>Создать свой датасет с категориальными данными (1000 строк), которые содержат следующие поля:</strong> (salary, city, age, vacation_prefer, transport_prefer, target). Применить <code>import random</code> (<code>random.choice</code>, <code>random.randint</code>).</li>\n",
    "    <ul>\n",
    "        <li><strong>Salary:</strong> установить числовой тип (например, 50000).</li>\n",
    "        <li><strong>City:</strong> город проживания (например, Bishkek).</li>\n",
    "        <li><strong>Age:</strong> возраст (например, от 30 до 65).</li>\n",
    "        <li><strong>Vacation_prefer:</strong> тип отдыха (например, Shopping или Beach holiday).</li>\n",
    "        <li><strong>Transport_prefer:</strong> тип транспорта (например, auto, plane).</li>\n",
    "        <li><strong>Target:</strong> город, в котором проведем отпуск (например, London, Moscow).</li>\n",
    "    </ul>\n",
    "    <li><strong>Преобразовать категориальные данные в числовые, используя</strong> <code>pandas.get_dummies</code>.</li>\n",
    "    <li><strong>Выделить обучающую выборку и тестовую выборку:</strong> (<code>X_train</code>, <code>y_train</code>, <code>X_test</code>, <code>y_test</code>).</li>\n",
    "    <li><strong>Выбрать модель классификатор:</strong> (например, <code>from sklearn.ensemble import RandomForestClassifier</code>).</li>\n",
    "    <li><strong>Проверить оценку модели.</strong></li>\n",
    "    <li><strong>Сделать предсказание на случайных данных.</strong></li>\n",
    "    <li><strong>Улучшить модель:</strong> согласно примерам лекций 9–10 и материала лабораторной работы.</li>\n",
    "</ol>\n"
   ]
  },
  {
   "cell_type": "code",
   "id": "b7190bf1-274d-4cf8-8908-486a55f9eb5c",
   "metadata": {
    "ExecuteTime": {
     "end_time": "2024-12-07T08:48:49.243531Z",
     "start_time": "2024-12-07T08:48:29.000613Z"
    }
   },
   "source": [
    "import pandas as pd\n",
    "from sklearn.model_selection import train_test_split\n",
    "from sklearn.ensemble import RandomForestClassifier\n",
    "from sklearn.metrics import accuracy_score, classification_report\n",
    "from sklearn.model_selection import GridSearchCV\n",
    "\n",
    "# Загрузка новой базы данных\n",
    "file_path = \"vacation_preferences_dataset_generated.xlsx\"\n",
    "df = pd.read_excel(file_path)\n",
    "\n",
    "# Пример данных\n",
    "print(\"Пример данных:\")\n",
    "print(df.head())\n",
    "\n",
    "# Преобразование категориальных данных в числовые\n",
    "df_encoded = pd.get_dummies(df, columns=['city', 'vacation_prefer', 'transport_prefer', 'target'])\n",
    "\n",
    "# Определение X (признаки) и y (целевая переменная)\n",
    "X = df_encoded.drop(columns=[col for col in df_encoded.columns if col.startswith('target_')])\n",
    "y = df_encoded[[col for col in df_encoded.columns if col.startswith('target_')]].values.argmax(axis=1)\n",
    "\n",
    "# Разделение на обучающую и тестовую выборки\n",
    "X_train, X_test, y_train, y_test = train_test_split(X, y, test_size=0.2, random_state=42)\n",
    "\n",
    "# Обучение модели RandomForestClassifier\n",
    "model = RandomForestClassifier(random_state=42)\n",
    "model.fit(X_train, y_train)\n",
    "\n",
    "# Оценка модели\n",
    "y_pred = model.predict(X_test)\n",
    "accuracy = accuracy_score(y_test, y_pred)\n",
    "print(\"Точность модели:\", accuracy)\n",
    "print(\"Отчёт классификации:\")\n",
    "print(classification_report(y_test, y_pred))\n",
    "\n",
    "# Предсказание на случайных данных\n",
    "random_data = {\n",
    "    'salary': [50000],\n",
    "    'age': [35],\n",
    "    'city_Bishkek': [1], 'city_Almaty': [0], 'city_Moscow': [0], 'city_London': [0], 'city_Paris': [0],\n",
    "    'vacation_prefer_Beach holiday': [1], 'vacation_prefer_Cruise': [0],\n",
    "    'vacation_prefer_Hiking': [0], 'vacation_prefer_Shopping': [0],\n",
    "    'transport_prefer_auto': [1], 'transport_prefer_plane': [0], 'transport_prefer_train': [0]\n",
    "}\n",
    "random_df = pd.DataFrame(random_data)\n",
    "random_df = random_df.reindex(columns=X_train.columns, fill_value=0)\n",
    "prediction = model.predict(random_df)\n",
    "predicted_target = [col.replace('target_', '') for col in df_encoded.columns if col.startswith('target_')][prediction[0]]\n",
    "print(\"Предсказание для случайных данных (результат):\", predicted_target)\n",
    "\n",
    "# Улучшение модели\n",
    "param_grid = {\n",
    "    'n_estimators': [50, 100, 150],\n",
    "    'max_depth': [10, 20, 30],\n",
    "    'min_samples_split': [2, 5, 10],\n",
    "}\n",
    "grid_search = GridSearchCV(RandomForestClassifier(random_state=42), param_grid, cv=5, scoring='accuracy')\n",
    "grid_search.fit(X_train, y_train)\n",
    "\n",
    "# Лучшая модель\n",
    "best_model = grid_search.best_estimator_\n",
    "y_pred_best = best_model.predict(X_test)\n",
    "accuracy_best = accuracy_score(y_test, y_pred_best)\n",
    "print(\"Точность улучшенной модели:\", accuracy_best)\n",
    "print(\"Лучшие параметры модели:\", grid_search.best_params_)\n"
   ],
   "outputs": [
    {
     "name": "stdout",
     "output_type": "stream",
     "text": [
      "Пример данных:\n",
      "   salary  age    city vacation_prefer transport_prefer target\n",
      "0   23316   29   Paris   Beach holiday            plane    Yes\n",
      "1   47743   58  London          Hiking             auto    Yes\n",
      "2   34716   49  Moscow        Shopping            plane    Yes\n",
      "3   89433   47  Almaty          Hiking            train    Yes\n",
      "4   68620   64  Almaty          Cruise             auto     No\n",
      "Точность модели: 0.45\n",
      "Отчёт классификации:\n",
      "              precision    recall  f1-score   support\n",
      "\n",
      "           0       0.40      0.42      0.41        45\n",
      "           1       0.50      0.47      0.49        55\n",
      "\n",
      "    accuracy                           0.45       100\n",
      "   macro avg       0.45      0.45      0.45       100\n",
      "weighted avg       0.45      0.45      0.45       100\n",
      "\n",
      "Предсказание для случайных данных (результат): No\n",
      "Точность улучшенной модели: 0.51\n",
      "Лучшие параметры модели: {'max_depth': 20, 'min_samples_split': 5, 'n_estimators': 150}\n"
     ]
    }
   ],
   "execution_count": 2
  },
  {
   "cell_type": "markdown",
   "id": "30a60a76-9c3e-4ec5-9e03-ee9f9843caf2",
   "metadata": {},
   "source": [
    "<h1>Причины, по которым улучшение модели оказалось невозможным:</h1>\n"
   ]
  },
  {
   "cell_type": "markdown",
   "id": "37150645-1340-4ee9-80fc-94d6a23f2b44",
   "metadata": {},
   "source": [
    "<h5>Ограниченность данных Датасет имеет ограниченное количество наблюдений или недостаточное разнообразие данных, что не позволяет модели выявить устойчивые закономерности. При недостаточном объеме данных даже оптимизация гиперпараметров не дает значительного прироста точности.\n",
    "Недостаточная связь признаков с целевой переменной\n",
    "Признаки (например, salary, age, закодированные категориальные данные) могут быть недостаточно информативными или иметь слабую корреляцию с целевой переменной. Это означает, что модель просто не может найти значимых закономерностей, необходимых для точного предсказания.\n",
    "\n",
    "Случайный характер данных\n",
    "Если целевая переменная зависит от факторов, не представленных в данных, даже самая мощная модель не сможет повысить точность. Это указывает на фундаментальные ограничения в исходной информации.\n",
    "\n",
    "Лимит возможностей алгоритма\n",
    "Random Forest — мощный алгоритм, но даже он имеет ограничения. Если данные содержат очень сложные, скрытые или нелинейные зависимости, алгоритм может не справиться с их выявлением, особенно если признаки плохо отражают природу задачи.\n",
    "\n",
    "Проблемы с дисбалансом классов\n",
    "Если классы целевой переменной представлены неравномерно, даже корректировка class_weight не всегда помогает улучшить метрики. В редких случаях это приводит к тому, что модель плохо обучается на менее распространенных классах.\n",
    "\n",
    "Выбор гиперпараметров\n",
    "Несмотря на использование GridSearchCV, диапазон гиперпараметров может быть недостаточно широким, чтобы найти оптимальную конфигурацию. Однако расширение диапазона часто приводит к переобучению при малом объеме данных.\n",
    "\n",
    "Сложность задачи\n",
    "Если задача прогнозирования изначально сложна и связана с множеством факторов, не представленных в датасете, точность модели неизбежно ограничивается.\n",
    "\n",
    "Вывод:\n",
    "После тщательной оптимизации гиперпараметров и использования сбалансированных весов классов модель достигла точности 51%. Это указывает на фундаментальные ограничения данных или недостаточную связь признаков с целевой переменной. Для дальнейшего улучшения результатов необходимы более качественные данные, дополнительные признаки или пересмотр постановки задачи.</h5>"
   ]
  },
  {
   "cell_type": "code",
   "execution_count": null,
   "id": "6213fadd-594a-4ee6-9ec2-3b870af5190b",
   "metadata": {},
   "outputs": [],
   "source": []
  }
 ],
 "metadata": {
  "kernelspec": {
   "display_name": "Python 3 (ipykernel)",
   "language": "python",
   "name": "python3"
  },
  "language_info": {
   "codemirror_mode": {
    "name": "ipython",
    "version": 3
   },
   "file_extension": ".py",
   "mimetype": "text/x-python",
   "name": "python",
   "nbconvert_exporter": "python",
   "pygments_lexer": "ipython3",
   "version": "3.12.6"
  }
 },
 "nbformat": 4,
 "nbformat_minor": 5
}
